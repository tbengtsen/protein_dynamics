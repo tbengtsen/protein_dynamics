{
 "cells": [
  {
   "cell_type": "markdown",
   "metadata": {},
   "source": [
    "# <center> Visualise A Simulation </center> \n",
    "\n",
    "This notebooks are made to show how to visualise a single simulation in a jupyter notebook and how to dump frames from a simulation in a pdb file to visualise with other tools such as Pymol, VMD etc"
   ]
  },
  {
   "cell_type": "code",
   "execution_count": 2,
   "metadata": {},
   "outputs": [
    {
     "data": {
      "application/vnd.jupyter.widget-view+json": {
       "model_id": "2afd93e9f6ca49d4883bb3eebd27d0be",
       "version_major": 2,
       "version_minor": 0
      },
      "text/plain": []
     },
     "metadata": {},
     "output_type": "display_data"
    }
   ],
   "source": [
    "import json\n",
    "import mdtraj as md\n",
    "import nglview as nglv\n"
   ]
  },
  {
   "cell_type": "markdown",
   "metadata": {},
   "source": [
    "# Denote pdb id of simulation to visualise"
   ]
  },
  {
   "cell_type": "code",
   "execution_count": 3,
   "metadata": {},
   "outputs": [],
   "source": [
    " PDB_ID = '153l' # <------------------"
   ]
  },
  {
   "cell_type": "markdown",
   "metadata": {},
   "source": [
    "# Load simulation"
   ]
  },
  {
   "cell_type": "code",
   "execution_count": 4,
   "metadata": {},
   "outputs": [
    {
     "name": "stderr",
     "output_type": "stream",
     "text": [
      "/home/trz846/anaconda3/envs/MD/lib/python3.7/site-packages/mdtraj/core/trajectory.py:422: UserWarning: top= kwarg ignored since file contains topology information\n",
      "  warnings.warn('top= kwarg ignored since file contains topology information')\n"
     ]
    },
    {
     "data": {
      "text/plain": [
       "<mdtraj.Trajectory with 399 frames, 2858 atoms, 185 residues, and unitcells at 0x7f1f24864c10>"
      ]
     },
     "execution_count": 4,
     "metadata": {},
     "output_type": "execute_result"
    }
   ],
   "source": [
    "# check if protein is simulated\n",
    "name_pdb = PDB_ID.lower()\n",
    "with open('../../data/CATH4.2_ALL_STATUS.json','r') as f:\n",
    "    all_cath = json.load(f)\n",
    "assert all_cath[name_pdb]['simulation status'] == 'Finished', f'{PDB_ID} has not been simulated'\n",
    "\n",
    "\n",
    "path_sim_dir = '../../simulations_new/' + name_pdb\n",
    "\n",
    "# load cleaned pdb used as start for simulation\n",
    "pdb_inp = f\"../../data/pdbs_cleaned/{name_pdb}_clean.pdb\"\n",
    "topology = md.load(pdb_inp, top=pdb_inp)\n",
    "\n",
    "\n",
    "# load traj file\n",
    "traj_path = path_sim_dir + f\"/{name_pdb}_trajectory.xtc\"\n",
    "md_traj = md.load(traj_path, top=topology)\n",
    "\n",
    "# align all frames/conformations in simulation to starting (cleaned) structure\n",
    "align_atoms = md_traj.topology.select(\"name==CA\")\n",
    "md_traj.superpose(topology, frame=0, atom_indices=align_atoms)\n"
   ]
  },
  {
   "cell_type": "markdown",
   "metadata": {},
   "source": [
    "# Visualise as trajectory with slider"
   ]
  },
  {
   "cell_type": "code",
   "execution_count": null,
   "metadata": {},
   "outputs": [],
   "source": [
    "## visualise ##\n",
    "view = nglv.show_mdtraj(topology, gui=True)\n",
    "\n",
    "# visualise input structure (cleaned) as red rippon \n",
    "view.clear_representations(component=0)\n",
    "view.add_representation(repr_type=\"rope\", color=\"red\", opacity=0.25, component=0)\n",
    "\n",
    "# visualise md traj\n",
    "view.add_trajectory(md_traj)\n",
    "\n",
    "view\n",
    "\n",
    "\n"
   ]
  },
  {
   "cell_type": "markdown",
   "metadata": {},
   "source": [
    "# Visualise all frames in traj at once\n",
    "**OBS! Takes a few mins to load**"
   ]
  },
  {
   "cell_type": "code",
   "execution_count": 16,
   "metadata": {},
   "outputs": [
    {
     "data": {
      "application/vnd.jupyter.widget-view+json": {
       "model_id": "50bac04cf3564cd8b0e64483311fbb1d",
       "version_major": 2,
       "version_minor": 0
      },
      "text/plain": [
       "NGLWidget()"
      ]
     },
     "metadata": {},
     "output_type": "display_data"
    },
    {
     "data": {
      "application/vnd.jupyter.widget-view+json": {
       "model_id": "32a219094f804355bc0a530c9f099772",
       "version_major": 2,
       "version_minor": 0
      },
      "text/plain": [
       "Tab(children=(Box(children=(Box(children=(Box(children=(Label(value='step'), IntSlider(value=1, min=-100)), la…"
      ]
     },
     "metadata": {},
     "output_type": "display_data"
    }
   ],
   "source": [
    "## visualise ##\n",
    "view_all = nglv.show_mdtraj(topology, gui=True)\n",
    "\n",
    "# visualise input structure (cleaned) as red rippon \n",
    "view_all.clear_representations(component=0)\n",
    "view_all.add_representation(repr_type=\"rope\", color=\"red\", opacity=0.25, component=0)\n",
    "\n",
    "# load frames every 1 ns => 20 frames\n",
    "for frame_idx in range(100):\n",
    "    if frame_idx % 5 == 0:\n",
    "        view_all.add_trajectory(md_traj[frame_idx])\n",
    "\n",
    "\n",
    "view_all"
   ]
  },
  {
   "cell_type": "code",
   "execution_count": null,
   "metadata": {},
   "outputs": [],
   "source": []
  }
 ],
 "metadata": {
  "kernelspec": {
   "display_name": "Python 3",
   "language": "python",
   "name": "python3"
  },
  "language_info": {
   "codemirror_mode": {
    "name": "ipython",
    "version": 3
   },
   "file_extension": ".py",
   "mimetype": "text/x-python",
   "name": "python",
   "nbconvert_exporter": "python",
   "pygments_lexer": "ipython3",
   "version": "3.7.9"
  }
 },
 "nbformat": 4,
 "nbformat_minor": 4
}
