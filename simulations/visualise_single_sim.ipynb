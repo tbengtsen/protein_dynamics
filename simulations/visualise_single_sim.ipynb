{
 "cells": [
  {
   "cell_type": "markdown",
   "metadata": {},
   "source": [
    "#\n",
    "<center> -------------------------------------------------------------------- </center>\n",
    "\n",
    "# <center> Simulation Protocol </center>\n",
    "\n",
    "<center> -------------------------------------------------------------------- </center>"
   ]
  },
  {
   "cell_type": "markdown",
   "metadata": {},
   "source": [
    "# imports"
   ]
  },
  {
   "cell_type": "code",
   "execution_count": 1,
   "metadata": {},
   "outputs": [
    {
     "data": {
      "application/vnd.jupyter.widget-view+json": {
       "model_id": "632c165ddb304a32afdb692e05f76e01",
       "version_major": 2,
       "version_minor": 0
      },
      "text/plain": []
     },
     "metadata": {},
     "output_type": "display_data"
    }
   ],
   "source": [
    "import argparse, math, sys, os, time, glob\n",
    "import numpy as np\n",
    "\n",
    "from copy import deepcopy\n",
    "from matplotlib import pyplot as plt\n",
    "\n",
    "# OpenMM related\n",
    "import simtk.openmm as mm\n",
    "from simtk.openmm.app.modeller import Modeller\n",
    "import simtk.openmm.app.forcefield as FF  # ForceField, PME, HBonds, AllBonds\n",
    "from simtk.openmm.app.simulation import Simulation\n",
    "import simtk.unit as unit\n",
    "from simtk.openmm.app import PDBFile, PDBxFile\n",
    "from pdbfixer.pdbfixer import PDBFixer\n",
    "\n",
    "# needed to output in xtc and for discarding water in output\n",
    "from mdtraj.reporters import DCDReporter, XTCReporter\n",
    "\n",
    "# find longest dist in protein (named diagonal in GMX)\n",
    "from scipy.spatial.distance import pdist, squareform\n",
    "from scipy.stats import linregress # assess slopes\n",
    "\n",
    "\n",
    "# visualization\n",
    "try:\n",
    "    import nglview as nglv\n",
    "    import mdtraj as md\n",
    "\n",
    "    visualise = True\n",
    "except:\n",
    "    print(\"nglview not installed - cannot visualise trajectory\")\n",
    "    visualise = False"
   ]
  },
  {
   "cell_type": "markdown",
   "metadata": {},
   "source": [
    "# Helper functions: "
   ]
  },
  {
   "cell_type": "markdown",
   "metadata": {},
   "source": [
    "# Test system 1PGA_clean.pdb"
   ]
  },
  {
   "cell_type": "code",
   "execution_count": 2,
   "metadata": {},
   "outputs": [
    {
     "name": "stdout",
     "output_type": "stream",
     "text": [
      "1a92\n"
     ]
    }
   ],
   "source": [
    "name_pdb = '1a92'\n",
    "pdb_inp = \"/home/trz846/protein_dynamics/data/pdbs_cleaned/{name_pdb}_clean.pdb\"\n",
    "pdb_inp = \"/home/trz846/protein_dynamics/data/pdbs_cleaned/1bby_clean.pdb\"\n",
    "out_directory = \"./\"\n",
    "rmsd = f'{name_pdb}/equil_rmsd_to_high_1a92.pdb'\n",
    "traj = f'{name_pdb}/{name_pdb}_trajectory.xtc'\n",
    "out_format = 'xtc'\n",
    "print(name_pdb)\n",
    "\n",
    "feat_viz = 'rmsd'"
   ]
  },
  {
   "cell_type": "markdown",
   "metadata": {},
   "source": [
    "# Visualise "
   ]
  },
  {
   "cell_type": "code",
   "execution_count": 3,
   "metadata": {},
   "outputs": [
    {
     "name": "stderr",
     "output_type": "stream",
     "text": [
      "/home/trz846/anaconda3/envs/MD/lib/python3.7/site-packages/mdtraj/core/trajectory.py:422: UserWarning: top= kwarg ignored since file contains topology information\n",
      "  warnings.warn('top= kwarg ignored since file contains topology information')\n"
     ]
    },
    {
     "data": {
      "application/vnd.jupyter.widget-view+json": {
       "model_id": "862433e818a143f7b156ca58c2e22a2f",
       "version_major": 2,
       "version_minor": 0
      },
      "text/plain": [
       "NGLWidget()"
      ]
     },
     "metadata": {},
     "output_type": "display_data"
    },
    {
     "data": {
      "application/vnd.jupyter.widget-view+json": {
       "model_id": "77aee5836ac44999a1f4b08ebc44e99e",
       "version_major": 2,
       "version_minor": 0
      },
      "text/plain": [
       "Tab(children=(Box(children=(Box(children=(Box(children=(Label(value='step'), IntSlider(value=1, min=-100)), la…"
      ]
     },
     "metadata": {},
     "output_type": "display_data"
    }
   ],
   "source": [
    "all_at_once = False # takes a few mins\n",
    "all_as_traj = True\n",
    "\n",
    "if visualise is True:\n",
    "    # load input pdb\n",
    "    topology = md.load(pdb_inp, top=pdb_inp)\n",
    "    view = nglv.show_mdtraj(topology, gui=True)\n",
    "    view.clear_representations(component=0)\n",
    "    view.add_representation(repr_type=\"rope\", color=\"red\", opacity=0.25, component=0)\n",
    "\n",
    "    # load traj file\n",
    "    if feat_viz == 'traj':\n",
    "        out_name = f\"{name_pdb}_trajectory.xtc\"\n",
    "        md_traj = md.load(traj, top=topology)\n",
    "        align_atoms = md_traj.topology.select(\"name==CA\")\n",
    "        md_traj.superpose(topology, frame=0, atom_indices=align_atoms)\n",
    "        if all_at_once:\n",
    "            # load frames every 1 ns => 20 frames\n",
    "            for frame_idx in range(100):\n",
    "                if frame_idx % 5 == 0:\n",
    "                    view.add_trajectory(md_traj[frame_idx])\n",
    "        if all_as_traj:\n",
    "            view.add_trajectory(md_traj)\n",
    "    elif feat_viz == 'rmsd':\n",
    "        rmsd_top = md.load(rmsd, top=rmsd)\n",
    "        view.add_trajectory(rmsd_top)\n",
    "        view.clear_representations(component=1)\n",
    "        view.add_representation(repr_type=\"cartoon\", color=\"blue\", opacity=0.75, component=1)\n",
    "        \n",
    "                                        \n",
    "                                        \n",
    "view"
   ]
  },
  {
   "cell_type": "code",
   "execution_count": 4,
   "metadata": {},
   "outputs": [
    {
     "name": "stdout",
     "output_type": "stream",
     "text": [
      "/home/trz846/anaconda3/envs/MD/bin/python\n"
     ]
    }
   ],
   "source": [
    "!which python\n"
   ]
  },
  {
   "cell_type": "code",
   "execution_count": 4,
   "metadata": {},
   "outputs": [
    {
     "data": {
      "text/plain": [
       "[<matplotlib.lines.Line2D at 0x7fa583545cd0>]"
      ]
     },
     "execution_count": 4,
     "metadata": {},
     "output_type": "execute_result"
    },
    {
     "data": {
      "image/png": "[encoded data removed]",
      "text/plain": [
       "<Figure size 432x288 with 1 Axes>"
      ]
     },
     "metadata": {
      "needs_background": "light"
     },
     "output_type": "display_data"
    }
   ],
   "source": [
    "plt.plot([1,2,3],[4,5,6])"
   ]
  },
  {
   "cell_type": "code",
   "execution_count": null,
   "metadata": {},
   "outputs": [],
   "source": []
  }
 ],
 "metadata": {
  "kernelspec": {
   "display_name": "Python 3",
   "language": "python",
   "name": "python3"
  },
  "language_info": {
   "codemirror_mode": {
    "name": "ipython",
    "version": 3
   },
   "file_extension": ".py",
   "mimetype": "text/x-python",
   "name": "python",
   "nbconvert_exporter": "python",
   "pygments_lexer": "ipython3",
   "version": "3.7.9"
  },
  "toc-autonumbering": false
 },
 "nbformat": 4,
 "nbformat_minor": 4
}
